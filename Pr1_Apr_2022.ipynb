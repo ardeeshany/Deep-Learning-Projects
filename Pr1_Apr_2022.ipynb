{
  "nbformat": 4,
  "nbformat_minor": 0,
  "metadata": {
    "colab": {
      "name": "Pr1-Apr-2022.ipynb",
      "provenance": [],
      "authorship_tag": "ABX9TyOgFm9Wgyt4SeOFnGlFgheR",
      "include_colab_link": true
    },
    "kernelspec": {
      "name": "python3",
      "display_name": "Python 3"
    },
    "language_info": {
      "name": "python"
    }
  },
  "cells": [
    {
      "cell_type": "markdown",
      "metadata": {
        "id": "view-in-github",
        "colab_type": "text"
      },
      "source": [
        "<a href=\"https://colab.research.google.com/github/ardeeshany/Deep-Learning-Projects/blob/main/Pr1_Apr_2022.ipynb\" target=\"_parent\"><img src=\"https://colab.research.google.com/assets/colab-badge.svg\" alt=\"Open In Colab\"/></a>"
      ]
    },
    {
      "cell_type": "markdown",
      "source": [
        "# Convolution\n",
        "\n",
        "- MaxPooling -> less care about the exact poistion -> reducing overfitting\n",
        "\n",
        "- Conv Process: Reverse Kernel (top to bottom & right to left) + multiple by image element by element + add them up into one number\n",
        "\n",
        "- ConvNets (CNN) will learn the kernels for each node and capture spatial local patterns! -> It tries to match only parts of an image and they are blind to many patterns!\n",
        "\n",
        "- [28 x 28 x 3] image will produce an output of [28 x 28 x 16] if 16 kernels are being learnt.\n",
        "\n",
        "- Structure: Conv + ReLU (dying nodes and gradient vanishing problems) + Pooling"
      ],
      "metadata": {
        "id": "4UEPN5nrBnFy"
      }
    },
    {
      "cell_type": "code",
      "execution_count": null,
      "metadata": {
        "id": "NkrEll-uAJOL"
      },
      "outputs": [],
      "source": [
        ""
      ]
    }
  ]
}