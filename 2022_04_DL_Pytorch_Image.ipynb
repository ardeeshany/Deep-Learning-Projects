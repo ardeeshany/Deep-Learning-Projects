{
  "nbformat": 4,
  "nbformat_minor": 0,
  "metadata": {
    "colab": {
      "name": "2022-04-DL-Pytorch-Image.ipynb",
      "provenance": [],
      "authorship_tag": "ABX9TyNcykS85XIwXJslnYy3LfWn",
      "include_colab_link": true
    },
    "kernelspec": {
      "name": "python3",
      "display_name": "Python 3"
    },
    "language_info": {
      "name": "python"
    }
  },
  "cells": [
    {
      "cell_type": "markdown",
      "metadata": {
        "id": "view-in-github",
        "colab_type": "text"
      },
      "source": [
        "<a href=\"https://colab.research.google.com/github/ardeeshany/Deep-Learning-Projects/blob/main/2022_04_DL_Pytorch_Image.ipynb\" target=\"_parent\"><img src=\"https://colab.research.google.com/assets/colab-badge.svg\" alt=\"Open In Colab\"/></a>"
      ]
    },
    {
      "cell_type": "markdown",
      "source": [
        "# Notes\n",
        "\n",
        "- Similar to numpy, mainly based on matrix multiplications -> Tensors\n",
        "- An **object** is created from the **class**\n",
        "- Using classes help you: 1. A **user-defined** structure 2. Leveraging **inheritance**"
      ],
      "metadata": {
        "id": "cytwd2-KWrDb"
      }
    },
    {
      "cell_type": "code",
      "execution_count": 2,
      "metadata": {
        "id": "d2Y9492AWlx-"
      },
      "outputs": [],
      "source": [
        "import torch"
      ]
    },
    {
      "cell_type": "code",
      "source": [
        "print(torch.tensor([[1,2], [3,5]]).shape)\n",
        "print(\"####\")\n",
        "print(torch.tensor([    [[1,2, 5], [3,5, 5]],   [[4,5, 6], [4,5, 6]]    ]))\n",
        "print(torch.tensor([    [[1,2, 5], [3,5, 5]],   [[4,5, 6], [4,5, 6]]    ]).shape)\n",
        "print(\"####\")\n",
        "print(torch.tensor([[1,2], [3,5]]))\n",
        "print(\"#####\")\n",
        "print(torch.tensor([[1,2], [3,5]])[0])\n",
        "print(\"#####\")\n",
        "torch.tensor([[1,2], [3,5]])[0][0]"
      ],
      "metadata": {
        "colab": {
          "base_uri": "https://localhost:8080/"
        },
        "id": "oOG3dIoVX3jd",
        "outputId": "37158fda-73cb-499c-b5f7-1374c276aebc"
      },
      "execution_count": 34,
      "outputs": [
        {
          "output_type": "stream",
          "name": "stdout",
          "text": [
            "torch.Size([2, 2])\n",
            "####\n",
            "tensor([[[1, 2, 5],\n",
            "         [3, 5, 5]],\n",
            "\n",
            "        [[4, 5, 6],\n",
            "         [4, 5, 6]]])\n",
            "torch.Size([2, 2, 3])\n",
            "####\n",
            "tensor([[1, 2],\n",
            "        [3, 5]])\n",
            "#####\n",
            "tensor([1, 2])\n",
            "#####\n"
          ]
        },
        {
          "output_type": "execute_result",
          "data": {
            "text/plain": [
              "tensor(1)"
            ]
          },
          "metadata": {},
          "execution_count": 34
        }
      ]
    },
    {
      "cell_type": "code",
      "source": [
        "print(torch.rand(2,2))\n",
        "a = torch.rand(2,2)\n",
        "b = torch.rand(2,2)\n",
        "torch.matmul(a,b)  # dot product"
      ],
      "metadata": {
        "colab": {
          "base_uri": "https://localhost:8080/"
        },
        "id": "-X2GqiVMYgdQ",
        "outputId": "d0262f51-4d82-4099-af2c-8af650e4eae3"
      },
      "execution_count": 38,
      "outputs": [
        {
          "output_type": "stream",
          "name": "stdout",
          "text": [
            "tensor([[0.2933, 0.0872],\n",
            "        [0.3823, 0.3824]])\n"
          ]
        },
        {
          "output_type": "execute_result",
          "data": {
            "text/plain": [
              "tensor([[0.2230, 0.7561],\n",
              "        [0.0485, 0.2586]])"
            ]
          },
          "metadata": {},
          "execution_count": 38
        }
      ]
    },
    {
      "cell_type": "code",
      "source": [
        "# Specials\n",
        "print(torch.zeros(2,3)) \n",
        "print(\"#\")\n",
        "print(torch.ones(2,2))\n",
        "print(\"#\")\n",
        "print(torch.eye(3,3))"
      ],
      "metadata": {
        "colab": {
          "base_uri": "https://localhost:8080/"
        },
        "id": "wWaR_jKtaYXO",
        "outputId": "8d7fae9b-559c-4aee-df2d-3efb36dc686a"
      },
      "execution_count": 50,
      "outputs": [
        {
          "output_type": "stream",
          "name": "stdout",
          "text": [
            "tensor([[0., 0., 0.],\n",
            "        [0., 0., 0.]])\n",
            "#\n",
            "tensor([[1., 1.],\n",
            "        [1., 1.]])\n",
            "#\n",
            "tensor([[1., 0., 0.],\n",
            "        [0., 1., 0.],\n",
            "        [0., 0., 1.]])\n"
          ]
        }
      ]
    },
    {
      "cell_type": "code",
      "source": [
        "import numpy as np\n",
        "torch.from_numpy(np.zeros((2,2))) # torch.numpy()"
      ],
      "metadata": {
        "colab": {
          "base_uri": "https://localhost:8080/"
        },
        "id": "qOjt9Nsra3cX",
        "outputId": "5b270490-98d6-4b16-b059-7f316635cae3"
      },
      "execution_count": 61,
      "outputs": [
        {
          "output_type": "execute_result",
          "data": {
            "text/plain": [
              "tensor([[0., 0.],\n",
              "        [0., 0.]], dtype=torch.float64)"
            ]
          },
          "metadata": {},
          "execution_count": 61
        }
      ]
    },
    {
      "cell_type": "code",
      "source": [
        "# Class\n",
        "class Student:\n",
        "    def __init__(self, first, last, age):  # have to have 'self', but may contain other attributes\n",
        "      self.first = first\n",
        "      self.last = last\n",
        "      self.age = age\n",
        "    \n",
        "    def Info(self):  # method\n",
        "      print(\"The first name is \" + self.first + \" and the last name is \" + self.last + \". It is \" + str(self.age) + \" years old\")\n",
        "\n",
        "    def birthday(self):\n",
        "        self.age += 1"
      ],
      "metadata": {
        "id": "uxIULRKldEAx"
      },
      "execution_count": 79,
      "outputs": []
    },
    {
      "cell_type": "code",
      "source": [
        "M1 = Student(\"John\", \"Doe\", 30)\n",
        "M1.Info()"
      ],
      "metadata": {
        "colab": {
          "base_uri": "https://localhost:8080/"
        },
        "id": "EKNRiEfTduHs",
        "outputId": "5b1d045e-7efa-4ce1-aac5-9fe810039022"
      },
      "execution_count": 81,
      "outputs": [
        {
          "output_type": "stream",
          "name": "stdout",
          "text": [
            "The first name is John and the last name is Doe. It is 30 years old\n"
          ]
        }
      ]
    },
    {
      "cell_type": "code",
      "source": [
        "# Creating a class of NN\n",
        "import torch\n",
        "import torch.nn as nn\n",
        "\n",
        "class Net(nn.Module):  # inherit from nn.Module\n",
        "  def __init__(self):\n",
        "      super(Net, self).__init__()\n",
        "      self.fc1 = nn.Linear(10, 20)  # Dense layer\n",
        "      self.fc2 = nn.Linear(20, 20)  # Dense layer\n",
        "      self.output = nn.Linear(20, 4)\n",
        "\n",
        "\n",
        "  def forward(self, x):\n",
        "      x = self.fc1(x)\n",
        "      x = self.fc2(x)\n",
        "      x = self.output(x)\n",
        "      return x"
      ],
      "metadata": {
        "id": "EcpsySgzeJPh"
      },
      "execution_count": 82,
      "outputs": []
    },
    {
      "cell_type": "code",
      "source": [
        "MyNet = Net()\n",
        "input = torch.rand(10)\n",
        "MyNet.forward(input)   # return feedforward with the random weighted"
      ],
      "metadata": {
        "colab": {
          "base_uri": "https://localhost:8080/"
        },
        "id": "pmFklqvQf7S2",
        "outputId": "50533bef-5e82-42fb-fc6e-139db2502770"
      },
      "execution_count": 91,
      "outputs": [
        {
          "output_type": "execute_result",
          "data": {
            "text/plain": [
              "tensor([ 0.1126,  0.0126,  0.0272, -0.3589], grad_fn=<AddBackward0>)"
            ]
          },
          "metadata": {},
          "execution_count": 91
        }
      ]
    }
  ]
}