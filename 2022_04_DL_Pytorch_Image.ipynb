{
  "nbformat": 4,
  "nbformat_minor": 0,
  "metadata": {
    "colab": {
      "name": "2022-04-DL-Pytorch-Image.ipynb",
      "provenance": [],
      "collapsed_sections": [],
      "authorship_tag": "ABX9TyP/+qYMK4SADdIYRN28NCfW",
      "include_colab_link": true
    },
    "kernelspec": {
      "name": "python3",
      "display_name": "Python 3"
    },
    "language_info": {
      "name": "python"
    },
    "widgets": {
      "application/vnd.jupyter.widget-state+json": {
        "ba792a0092954cc281a5e926826f65cc": {
          "model_module": "@jupyter-widgets/controls",
          "model_name": "HBoxModel",
          "model_module_version": "1.5.0",
          "state": {
            "_dom_classes": [],
            "_model_module": "@jupyter-widgets/controls",
            "_model_module_version": "1.5.0",
            "_model_name": "HBoxModel",
            "_view_count": null,
            "_view_module": "@jupyter-widgets/controls",
            "_view_module_version": "1.5.0",
            "_view_name": "HBoxView",
            "box_style": "",
            "children": [
              "IPY_MODEL_a19c5babe41d42f8b9e426d57cbc475e",
              "IPY_MODEL_982599330c7b4035bc0ceaeaf92da00e",
              "IPY_MODEL_73e71591733a4d5a8d01eca52527bc3d"
            ],
            "layout": "IPY_MODEL_ac654ba05f3546afbfb5ad6a612c1d63"
          }
        },
        "a19c5babe41d42f8b9e426d57cbc475e": {
          "model_module": "@jupyter-widgets/controls",
          "model_name": "HTMLModel",
          "model_module_version": "1.5.0",
          "state": {
            "_dom_classes": [],
            "_model_module": "@jupyter-widgets/controls",
            "_model_module_version": "1.5.0",
            "_model_name": "HTMLModel",
            "_view_count": null,
            "_view_module": "@jupyter-widgets/controls",
            "_view_module_version": "1.5.0",
            "_view_name": "HTMLView",
            "description": "",
            "description_tooltip": null,
            "layout": "IPY_MODEL_04eeeca42bd446428ed8e291ec1bf2c0",
            "placeholder": "​",
            "style": "IPY_MODEL_33b34f8546bd40b5ac2613533358c7f1",
            "value": ""
          }
        },
        "982599330c7b4035bc0ceaeaf92da00e": {
          "model_module": "@jupyter-widgets/controls",
          "model_name": "FloatProgressModel",
          "model_module_version": "1.5.0",
          "state": {
            "_dom_classes": [],
            "_model_module": "@jupyter-widgets/controls",
            "_model_module_version": "1.5.0",
            "_model_name": "FloatProgressModel",
            "_view_count": null,
            "_view_module": "@jupyter-widgets/controls",
            "_view_module_version": "1.5.0",
            "_view_name": "ProgressView",
            "bar_style": "success",
            "description": "",
            "description_tooltip": null,
            "layout": "IPY_MODEL_ec54c2636b694a8eb77893f0d7bd437e",
            "max": 170498071,
            "min": 0,
            "orientation": "horizontal",
            "style": "IPY_MODEL_597521335fd84645819ce858151e80c3",
            "value": 170498071
          }
        },
        "73e71591733a4d5a8d01eca52527bc3d": {
          "model_module": "@jupyter-widgets/controls",
          "model_name": "HTMLModel",
          "model_module_version": "1.5.0",
          "state": {
            "_dom_classes": [],
            "_model_module": "@jupyter-widgets/controls",
            "_model_module_version": "1.5.0",
            "_model_name": "HTMLModel",
            "_view_count": null,
            "_view_module": "@jupyter-widgets/controls",
            "_view_module_version": "1.5.0",
            "_view_name": "HTMLView",
            "description": "",
            "description_tooltip": null,
            "layout": "IPY_MODEL_aa52a44f3b1e4920888a2c894877e017",
            "placeholder": "​",
            "style": "IPY_MODEL_92c34c58823741a2bc18ae28a22723f0",
            "value": " 170499072/? [00:02&lt;00:00, 64153478.61it/s]"
          }
        },
        "ac654ba05f3546afbfb5ad6a612c1d63": {
          "model_module": "@jupyter-widgets/base",
          "model_name": "LayoutModel",
          "model_module_version": "1.2.0",
          "state": {
            "_model_module": "@jupyter-widgets/base",
            "_model_module_version": "1.2.0",
            "_model_name": "LayoutModel",
            "_view_count": null,
            "_view_module": "@jupyter-widgets/base",
            "_view_module_version": "1.2.0",
            "_view_name": "LayoutView",
            "align_content": null,
            "align_items": null,
            "align_self": null,
            "border": null,
            "bottom": null,
            "display": null,
            "flex": null,
            "flex_flow": null,
            "grid_area": null,
            "grid_auto_columns": null,
            "grid_auto_flow": null,
            "grid_auto_rows": null,
            "grid_column": null,
            "grid_gap": null,
            "grid_row": null,
            "grid_template_areas": null,
            "grid_template_columns": null,
            "grid_template_rows": null,
            "height": null,
            "justify_content": null,
            "justify_items": null,
            "left": null,
            "margin": null,
            "max_height": null,
            "max_width": null,
            "min_height": null,
            "min_width": null,
            "object_fit": null,
            "object_position": null,
            "order": null,
            "overflow": null,
            "overflow_x": null,
            "overflow_y": null,
            "padding": null,
            "right": null,
            "top": null,
            "visibility": null,
            "width": null
          }
        },
        "04eeeca42bd446428ed8e291ec1bf2c0": {
          "model_module": "@jupyter-widgets/base",
          "model_name": "LayoutModel",
          "model_module_version": "1.2.0",
          "state": {
            "_model_module": "@jupyter-widgets/base",
            "_model_module_version": "1.2.0",
            "_model_name": "LayoutModel",
            "_view_count": null,
            "_view_module": "@jupyter-widgets/base",
            "_view_module_version": "1.2.0",
            "_view_name": "LayoutView",
            "align_content": null,
            "align_items": null,
            "align_self": null,
            "border": null,
            "bottom": null,
            "display": null,
            "flex": null,
            "flex_flow": null,
            "grid_area": null,
            "grid_auto_columns": null,
            "grid_auto_flow": null,
            "grid_auto_rows": null,
            "grid_column": null,
            "grid_gap": null,
            "grid_row": null,
            "grid_template_areas": null,
            "grid_template_columns": null,
            "grid_template_rows": null,
            "height": null,
            "justify_content": null,
            "justify_items": null,
            "left": null,
            "margin": null,
            "max_height": null,
            "max_width": null,
            "min_height": null,
            "min_width": null,
            "object_fit": null,
            "object_position": null,
            "order": null,
            "overflow": null,
            "overflow_x": null,
            "overflow_y": null,
            "padding": null,
            "right": null,
            "top": null,
            "visibility": null,
            "width": null
          }
        },
        "33b34f8546bd40b5ac2613533358c7f1": {
          "model_module": "@jupyter-widgets/controls",
          "model_name": "DescriptionStyleModel",
          "model_module_version": "1.5.0",
          "state": {
            "_model_module": "@jupyter-widgets/controls",
            "_model_module_version": "1.5.0",
            "_model_name": "DescriptionStyleModel",
            "_view_count": null,
            "_view_module": "@jupyter-widgets/base",
            "_view_module_version": "1.2.0",
            "_view_name": "StyleView",
            "description_width": ""
          }
        },
        "ec54c2636b694a8eb77893f0d7bd437e": {
          "model_module": "@jupyter-widgets/base",
          "model_name": "LayoutModel",
          "model_module_version": "1.2.0",
          "state": {
            "_model_module": "@jupyter-widgets/base",
            "_model_module_version": "1.2.0",
            "_model_name": "LayoutModel",
            "_view_count": null,
            "_view_module": "@jupyter-widgets/base",
            "_view_module_version": "1.2.0",
            "_view_name": "LayoutView",
            "align_content": null,
            "align_items": null,
            "align_self": null,
            "border": null,
            "bottom": null,
            "display": null,
            "flex": null,
            "flex_flow": null,
            "grid_area": null,
            "grid_auto_columns": null,
            "grid_auto_flow": null,
            "grid_auto_rows": null,
            "grid_column": null,
            "grid_gap": null,
            "grid_row": null,
            "grid_template_areas": null,
            "grid_template_columns": null,
            "grid_template_rows": null,
            "height": null,
            "justify_content": null,
            "justify_items": null,
            "left": null,
            "margin": null,
            "max_height": null,
            "max_width": null,
            "min_height": null,
            "min_width": null,
            "object_fit": null,
            "object_position": null,
            "order": null,
            "overflow": null,
            "overflow_x": null,
            "overflow_y": null,
            "padding": null,
            "right": null,
            "top": null,
            "visibility": null,
            "width": null
          }
        },
        "597521335fd84645819ce858151e80c3": {
          "model_module": "@jupyter-widgets/controls",
          "model_name": "ProgressStyleModel",
          "model_module_version": "1.5.0",
          "state": {
            "_model_module": "@jupyter-widgets/controls",
            "_model_module_version": "1.5.0",
            "_model_name": "ProgressStyleModel",
            "_view_count": null,
            "_view_module": "@jupyter-widgets/base",
            "_view_module_version": "1.2.0",
            "_view_name": "StyleView",
            "bar_color": null,
            "description_width": ""
          }
        },
        "aa52a44f3b1e4920888a2c894877e017": {
          "model_module": "@jupyter-widgets/base",
          "model_name": "LayoutModel",
          "model_module_version": "1.2.0",
          "state": {
            "_model_module": "@jupyter-widgets/base",
            "_model_module_version": "1.2.0",
            "_model_name": "LayoutModel",
            "_view_count": null,
            "_view_module": "@jupyter-widgets/base",
            "_view_module_version": "1.2.0",
            "_view_name": "LayoutView",
            "align_content": null,
            "align_items": null,
            "align_self": null,
            "border": null,
            "bottom": null,
            "display": null,
            "flex": null,
            "flex_flow": null,
            "grid_area": null,
            "grid_auto_columns": null,
            "grid_auto_flow": null,
            "grid_auto_rows": null,
            "grid_column": null,
            "grid_gap": null,
            "grid_row": null,
            "grid_template_areas": null,
            "grid_template_columns": null,
            "grid_template_rows": null,
            "height": null,
            "justify_content": null,
            "justify_items": null,
            "left": null,
            "margin": null,
            "max_height": null,
            "max_width": null,
            "min_height": null,
            "min_width": null,
            "object_fit": null,
            "object_position": null,
            "order": null,
            "overflow": null,
            "overflow_x": null,
            "overflow_y": null,
            "padding": null,
            "right": null,
            "top": null,
            "visibility": null,
            "width": null
          }
        },
        "92c34c58823741a2bc18ae28a22723f0": {
          "model_module": "@jupyter-widgets/controls",
          "model_name": "DescriptionStyleModel",
          "model_module_version": "1.5.0",
          "state": {
            "_model_module": "@jupyter-widgets/controls",
            "_model_module_version": "1.5.0",
            "_model_name": "DescriptionStyleModel",
            "_view_count": null,
            "_view_module": "@jupyter-widgets/base",
            "_view_module_version": "1.2.0",
            "_view_name": "StyleView",
            "description_width": ""
          }
        }
      }
    }
  },
  "cells": [
    {
      "cell_type": "markdown",
      "metadata": {
        "id": "view-in-github",
        "colab_type": "text"
      },
      "source": [
        "<a href=\"https://colab.research.google.com/github/ardeeshany/Deep-Learning-Projects/blob/main/2022_04_DL_Pytorch_Image.ipynb\" target=\"_parent\"><img src=\"https://colab.research.google.com/assets/colab-badge.svg\" alt=\"Open In Colab\"/></a>"
      ]
    },
    {
      "cell_type": "markdown",
      "source": [
        "# Notes\n",
        "\n",
        "- Similar to numpy, mainly based on matrix multiplications -> Tensors\n",
        "\n",
        "- An **object** is being created from a **class**\n",
        "\n",
        "- Using classes help you: 1. A **user-defined** structure 2. Leveraging **inheritance**\n",
        "\n",
        "- **Tensor:** A tensor is a generalization of vectors and matrices and is easily understood as a multidimensional array. Tensors are similar to NumPy's ndarrays, except that tensors can run on GPUs or other hardware accelerators. The number of dimensions a tensor has is called its rank and the length in each dimension describes its shape. A tensor with one dimension can be thought of as a vector, a tensor with two dimensions as a matrix and a tensor with three dimensions can be thought of as a cuboid.\n",
        "\n",
        "- One important thing about loss functions is that they should be differentiable! For classification, accuracy is not differentiable → we use **cross-entropy** which is both differentiable and provides and estimate of the accuracy of the selected class!"
      ],
      "metadata": {
        "id": "cytwd2-KWrDb"
      }
    },
    {
      "cell_type": "code",
      "source": [
        "import torch\n",
        "print(\"### Rank 2: Matrix\")\n",
        "print(torch.tensor([[1,2], \n",
        "                    [3,5]]).shape)\n",
        "\n",
        "print(\"#### Rank 3: Cuboid\")\n",
        "print(torch.tensor([   \n",
        "                    [[1,2, 5], \n",
        "                     [3,5, 5]],\n",
        "                       \n",
        "                    [[4,5, 6], \n",
        "                     [4,5, 6]]    \n",
        "                    ]))\n",
        "print(torch.tensor([    [[1,2, 5], [3,5, 5]],   [[4,5, 6], [4,5, 6]]    ]).shape)\n",
        "\n",
        "print(\"####\")\n",
        "print(torch.tensor([[1,2], [3,5]]))\n",
        "print(\"#####\")\n",
        "print(torch.tensor([[1,2], [3,5]])[0])\n",
        "print(\"#####\")\n",
        "torch.tensor([[1,2], [3,5]])[0][0]"
      ],
      "metadata": {
        "colab": {
          "base_uri": "https://localhost:8080/"
        },
        "id": "oOG3dIoVX3jd",
        "outputId": "b9301274-32c7-4b4b-c94e-7b04c88e67f5"
      },
      "execution_count": null,
      "outputs": [
        {
          "output_type": "stream",
          "name": "stdout",
          "text": [
            "### Rank 2: Matrix\n",
            "torch.Size([2, 2])\n",
            "#### Rank 3: Cuboid\n",
            "tensor([[[1, 2, 5],\n",
            "         [3, 5, 5]],\n",
            "\n",
            "        [[4, 5, 6],\n",
            "         [4, 5, 6]]])\n",
            "torch.Size([2, 2, 3])\n",
            "####\n",
            "tensor([[1, 2],\n",
            "        [3, 5]])\n",
            "#####\n",
            "tensor([1, 2])\n",
            "#####\n"
          ]
        },
        {
          "output_type": "execute_result",
          "data": {
            "text/plain": [
              "tensor(1)"
            ]
          },
          "metadata": {},
          "execution_count": 6
        }
      ]
    },
    {
      "cell_type": "code",
      "source": [
        "print(torch.rand(2,2))\n",
        "a = torch.rand(2,2)\n",
        "b = torch.rand(2,2)\n",
        "torch.matmul(a,b)  # dot product"
      ],
      "metadata": {
        "colab": {
          "base_uri": "https://localhost:8080/"
        },
        "id": "-X2GqiVMYgdQ",
        "outputId": "b8cc7743-a640-4445-8d60-d83f375bb294"
      },
      "execution_count": null,
      "outputs": [
        {
          "output_type": "stream",
          "name": "stdout",
          "text": [
            "tensor([[0.5171, 0.8522],\n",
            "        [0.6582, 0.4905]])\n"
          ]
        },
        {
          "output_type": "execute_result",
          "data": {
            "text/plain": [
              "tensor([[0.1112, 0.1092],\n",
              "        [0.1071, 0.1079]])"
            ]
          },
          "metadata": {},
          "execution_count": 7
        }
      ]
    },
    {
      "cell_type": "code",
      "source": [
        "# Specials\n",
        "print(torch.zeros(2,3)) \n",
        "print(\"#\")\n",
        "print(torch.ones(2,2))\n",
        "print(\"#\")\n",
        "print(torch.eye(3,3))"
      ],
      "metadata": {
        "colab": {
          "base_uri": "https://localhost:8080/"
        },
        "id": "wWaR_jKtaYXO",
        "outputId": "8d7fae9b-559c-4aee-df2d-3efb36dc686a"
      },
      "execution_count": null,
      "outputs": [
        {
          "output_type": "stream",
          "name": "stdout",
          "text": [
            "tensor([[0., 0., 0.],\n",
            "        [0., 0., 0.]])\n",
            "#\n",
            "tensor([[1., 1.],\n",
            "        [1., 1.]])\n",
            "#\n",
            "tensor([[1., 0., 0.],\n",
            "        [0., 1., 0.],\n",
            "        [0., 0., 1.]])\n"
          ]
        }
      ]
    },
    {
      "cell_type": "code",
      "source": [
        "import numpy as np\n",
        "torch.from_numpy(np.zeros((2,2))) # torch.numpy()"
      ],
      "metadata": {
        "colab": {
          "base_uri": "https://localhost:8080/"
        },
        "id": "qOjt9Nsra3cX",
        "outputId": "0add4168-3190-4df1-b2fc-a0c86cb089ae"
      },
      "execution_count": null,
      "outputs": [
        {
          "output_type": "execute_result",
          "data": {
            "text/plain": [
              "tensor([[0., 0.],\n",
              "        [0., 0.]], dtype=torch.float64)"
            ]
          },
          "metadata": {},
          "execution_count": 9
        }
      ]
    },
    {
      "cell_type": "code",
      "source": [
        "# Class\n",
        "class Student:\n",
        "    def __init__(self, first, last, age):  # have to have 'self', but may contain other attributes\n",
        "      self.first = first\n",
        "      self.last = last\n",
        "      self.age = age\n",
        "    \n",
        "    def Info(self):  # method\n",
        "      print(\"The first name is \" + self.first + \" and the last name is \" + self.last + \". It is \" + str(self.age) + \" years old\")\n",
        "\n",
        "    def birthday(self):\n",
        "        self.age += 1"
      ],
      "metadata": {
        "id": "uxIULRKldEAx"
      },
      "execution_count": null,
      "outputs": []
    },
    {
      "cell_type": "code",
      "source": [
        "M1 = Student(\"John\", \"Doe\", 30)\n",
        "M1.Info()"
      ],
      "metadata": {
        "colab": {
          "base_uri": "https://localhost:8080/"
        },
        "id": "EKNRiEfTduHs",
        "outputId": "5b1d045e-7efa-4ce1-aac5-9fe810039022"
      },
      "execution_count": null,
      "outputs": [
        {
          "output_type": "stream",
          "name": "stdout",
          "text": [
            "The first name is John and the last name is Doe. It is 30 years old\n"
          ]
        }
      ]
    },
    {
      "cell_type": "code",
      "source": [
        "# Creating a class of NN\n",
        "import torch\n",
        "import torch.nn as nn\n",
        "import torch.nn.functional as F\n",
        "\n",
        "class Net(nn.Module):  # inherit from nn.Module\n",
        "  def __init__(self):\n",
        "      super(Net, self).__init__()\n",
        "      self.fc1 = nn.Linear(10, 20)  # Dense layer\n",
        "      self.fc2 = nn.Linear(20, 20)  # Dense layer\n",
        "      self.output = nn.Linear(20, 4)\n",
        "\n",
        "\n",
        "  def forward(self, x): # forward method\n",
        "      x = F.relu(self.fc1(x))\n",
        "      x = F.relu(self.fc2(x))\n",
        "      x = self.output(x)\n",
        "      return x"
      ],
      "metadata": {
        "id": "EcpsySgzeJPh"
      },
      "execution_count": null,
      "outputs": []
    },
    {
      "cell_type": "code",
      "source": [
        "MyNet = Net()\n",
        "input = torch.rand(10)\n",
        "MyNet.forward(input)   # return feedforward with the random weighted"
      ],
      "metadata": {
        "colab": {
          "base_uri": "https://localhost:8080/"
        },
        "id": "pmFklqvQf7S2",
        "outputId": "b12a9cd5-6d65-4211-eaf4-1d9c0490650c"
      },
      "execution_count": null,
      "outputs": [
        {
          "output_type": "execute_result",
          "data": {
            "text/plain": [
              "tensor([ 0.2097,  0.1332, -0.1511, -0.1417], grad_fn=<AddBackward0>)"
            ]
          },
          "metadata": {},
          "execution_count": 28
        }
      ]
    },
    {
      "cell_type": "code",
      "source": [
        "import torch.nn as nn\n",
        "relu = nn.ReLU()\n",
        "inp = torch.tensor([2., -1.])\n",
        "relu(inp)"
      ],
      "metadata": {
        "colab": {
          "base_uri": "https://localhost:8080/"
        },
        "id": "Y1C0xOPeD9Pq",
        "outputId": "491b733c-6457-4e5f-d14c-e05a3b0915f0"
      },
      "execution_count": null,
      "outputs": [
        {
          "output_type": "execute_result",
          "data": {
            "text/plain": [
              "tensor([2., 0.])"
            ]
          },
          "metadata": {},
          "execution_count": 22
        }
      ]
    },
    {
      "cell_type": "code",
      "source": [
        "out = torch.tensor([[.2, .1, 4.5]])\n",
        "gr = torch.tensor([2]) # the last number out of [.2, .1, -1.5] is the right one -> p = [0, 0, 1]\n",
        "criterion = nn.CrossEntropyLoss() # based on Kullback-Leibler Divergence (diffenrentiable measure explain how two dist are close to each other!)\n",
        "print(criterion(out, gr)) # = Sum(-tlog(p)) -> < 0.02 great probabilities, <0.05 acceptable!\n",
        "(0 + 0 + -1*np.log(np.exp(4.5)/(np.exp(0.2) + np.exp(0.1) + np.exp(4.5))))"
      ],
      "metadata": {
        "colab": {
          "base_uri": "https://localhost:8080/"
        },
        "id": "Fl-H4MJlKK-o",
        "outputId": "2abaf14c-d682-454f-c1cc-f89aaca405e8"
      },
      "execution_count": null,
      "outputs": [
        {
          "output_type": "stream",
          "name": "stdout",
          "text": [
            "tensor(0.0255)\n"
          ]
        },
        {
          "output_type": "execute_result",
          "data": {
            "text/plain": [
              "0.02551753947901458"
            ]
          },
          "metadata": {},
          "execution_count": 65
        }
      ]
    },
    {
      "cell_type": "markdown",
      "source": [
        "## Load Data\n",
        "\n",
        "- **Torchvision** is a library for Computer Vision that goes hand in hand with PyTorch. It has utilities for efficient Image and Video **transformations**, some commonly used **pre-trained models**, and some **datasets**\n",
        "  - A batch of Tensor Images is a tensor of (B, C, H, W) shape, where B is a number of images in the batch, and C is the number of channels.\n",
        "\n",
        "- The `torch.utils.data.DataLoader` class is designed so that it can be iterated using the **enumerate()** function, which returns a tuple with the current batch zero-based index value, and the actual batch of data. With using this function, we can later leverage nice functionalities such as multiprocessing"
      ],
      "metadata": {
        "id": "KDta3rgPOTzZ"
      }
    },
    {
      "cell_type": "code",
      "source": [
        "import torch\n",
        "import torch.utils.data\n",
        "\n",
        "import torchvision\n",
        "import torchvision.transforms as transforms\n",
        "transform = transforms.Compose([transforms.ToTensor()])"
      ],
      "metadata": {
        "id": "xu8zuZ2SOVd4"
      },
      "execution_count": 1,
      "outputs": []
    },
    {
      "cell_type": "code",
      "source": [
        "train_data = torchvision.datasets.CIFAR10(root = \"./\", train = True, download=True, transform = transform)\n",
        "test_data = torchvision.datasets.CIFAR10(root = \"./\", train = False, download=True, transform = transform)"
      ],
      "metadata": {
        "colab": {
          "base_uri": "https://localhost:8080/",
          "height": 102,
          "referenced_widgets": [
            "ba792a0092954cc281a5e926826f65cc",
            "a19c5babe41d42f8b9e426d57cbc475e",
            "982599330c7b4035bc0ceaeaf92da00e",
            "73e71591733a4d5a8d01eca52527bc3d",
            "ac654ba05f3546afbfb5ad6a612c1d63",
            "04eeeca42bd446428ed8e291ec1bf2c0",
            "33b34f8546bd40b5ac2613533358c7f1",
            "ec54c2636b694a8eb77893f0d7bd437e",
            "597521335fd84645819ce858151e80c3",
            "aa52a44f3b1e4920888a2c894877e017",
            "92c34c58823741a2bc18ae28a22723f0"
          ]
        },
        "id": "ihOjbtSmOrsN",
        "outputId": "442837d8-4112-44f3-a10e-5a67f4099a4b"
      },
      "execution_count": 2,
      "outputs": [
        {
          "output_type": "stream",
          "name": "stdout",
          "text": [
            "Downloading https://www.cs.toronto.edu/~kriz/cifar-10-python.tar.gz to ./cifar-10-python.tar.gz\n"
          ]
        },
        {
          "output_type": "display_data",
          "data": {
            "text/plain": [
              "  0%|          | 0/170498071 [00:00<?, ?it/s]"
            ],
            "application/vnd.jupyter.widget-view+json": {
              "version_major": 2,
              "version_minor": 0,
              "model_id": "ba792a0092954cc281a5e926826f65cc"
            }
          },
          "metadata": {}
        },
        {
          "output_type": "stream",
          "name": "stdout",
          "text": [
            "Extracting ./cifar-10-python.tar.gz to ./\n",
            "Files already downloaded and verified\n"
          ]
        }
      ]
    },
    {
      "cell_type": "code",
      "source": [
        "train_data.data.shape, test_data.data.shape "
      ],
      "metadata": {
        "colab": {
          "base_uri": "https://localhost:8080/"
        },
        "id": "1zhzfqWFPTRu",
        "outputId": "12d517c4-8f14-49ce-e53a-ea2dcf63d216"
      },
      "execution_count": 3,
      "outputs": [
        {
          "output_type": "execute_result",
          "data": {
            "text/plain": [
              "((50000, 32, 32, 3), (10000, 32, 32, 3))"
            ]
          },
          "metadata": {},
          "execution_count": 3
        }
      ]
    },
    {
      "cell_type": "code",
      "source": [
        "train_loader = torch.utils.data.DataLoader(train_data, batch_size = 32, shuffle=True, num_workers=4)\n",
        "test_loader = torch.utils.data.DataLoader(test_data, batch_size = 32, shuffle=True, num_workers=4)"
      ],
      "metadata": {
        "id": "t265etftlcfG"
      },
      "execution_count": null,
      "outputs": []
    },
    {
      "cell_type": "code",
      "source": [
        "train_loader.dataset.data.shape, test_loader.dataset.data.shape"
      ],
      "metadata": {
        "colab": {
          "base_uri": "https://localhost:8080/"
        },
        "id": "TfjxokOelwM-",
        "outputId": "3c3428a2-653b-467f-841a-b9d1639405c2"
      },
      "execution_count": 5,
      "outputs": [
        {
          "output_type": "execute_result",
          "data": {
            "text/plain": [
              "((50000, 32, 32, 3), (10000, 32, 32, 3))"
            ]
          },
          "metadata": {},
          "execution_count": 5
        }
      ]
    },
    {
      "cell_type": "code",
      "source": [
        "train_loader.batch_size, test_loader.batch_size"
      ],
      "metadata": {
        "colab": {
          "base_uri": "https://localhost:8080/"
        },
        "id": "hrUVvxJ3ofkq",
        "outputId": "ffe56cec-d12a-4b2f-9f95-8f7389d03330"
      },
      "execution_count": 6,
      "outputs": [
        {
          "output_type": "execute_result",
          "data": {
            "text/plain": [
              "(32, 32)"
            ]
          },
          "metadata": {},
          "execution_count": 6
        }
      ]
    },
    {
      "cell_type": "code",
      "source": [
        "import torch\n",
        "import torch.nn as nn\n",
        "import torch.nn.functional as F\n",
        "import torch.optim as optim\n",
        "\n",
        "class Net(nn.Module):\n",
        "\n",
        "    def __init__(self):\n",
        "        super(Net, self).__init__()\n",
        "        self.fc1 = nn.Linear(32*32*3, 500)\n",
        "        self.fc2 = nn.Linear(500, 10)  # 10 = num of outputs\n",
        "\n",
        "    def forward(self, x):\n",
        "        x = F.relu(self.fc1(x))\n",
        "        return self.fc2(x)\n"
      ],
      "metadata": {
        "id": "XGyVL8L9qeHG"
      },
      "execution_count": 7,
      "outputs": []
    },
    {
      "cell_type": "markdown",
      "source": [
        "## Training the network"
      ],
      "metadata": {
        "id": "mtJqGUJex8Pl"
      }
    },
    {
      "cell_type": "code",
      "source": [
        "net = Net()\n",
        "criterion = nn.CrossEntropyLoss()\n",
        "optimizer = optim.Adam(params = net.parameters(), lr = 0.001)\n",
        "\n",
        "\n",
        "for epoch in range(1):\n",
        "    for i, data in enumerate(train_loader):   # train_loader = (50K, 32, 32, 3)& create 4 worker process; data[0] = X = (32, 3, 32, 32) ; data[1] = Y = [32] = one label for each observation\n",
        "        inputs, labels = data\n",
        "        inputs = inputs.view(-1, 32*32*3)  # puts all the images into a vector \n",
        "\n",
        "        optimizer.zero_grad() # set all the gradients to zero -> not added from the previous iteration!\n",
        "        \n",
        "        \n",
        "        # run the network: Forward + Backward + Optimize\n",
        "        outputs = net(inputs)\n",
        "        loss = criterion(outputs, labels)\n",
        "        \n",
        "        loss.backward()   \n",
        "        \n",
        "        optimizer.step()  # update weights: performs a single optimization step\n",
        "\n",
        "\n"
      ],
      "metadata": {
        "colab": {
          "base_uri": "https://localhost:8080/"
        },
        "id": "LAZKebs8rc64",
        "outputId": "770bf98e-fa4b-4930-e8a7-f3fcaa4b6a94"
      },
      "execution_count": 8,
      "outputs": [
        {
          "output_type": "stream",
          "name": "stderr",
          "text": [
            "/usr/local/lib/python3.7/dist-packages/torch/utils/data/dataloader.py:481: UserWarning: This DataLoader will create 4 worker processes in total. Our suggested max number of worker in current system is 2, which is smaller than what this DataLoader is going to create. Please be aware that excessive worker creation might get DataLoader running slow or even freeze, lower the worker number to avoid potential slowness/freeze if necessary.\n",
            "  cpuset_checked))\n"
          ]
        }
      ]
    },
    {
      "cell_type": "markdown",
      "source": [
        "## Testing the network"
      ],
      "metadata": {
        "id": "AkcPtHsvyFva"
      }
    },
    {
      "cell_type": "code",
      "source": [
        "correct, total = 0, 0\n",
        "predictions = []\n",
        "net.eval() # go in the test/evaluation mode\n",
        "\n",
        "for i, data in enumerate(test_loader, 0):\n",
        "    inputs, labels = data  # labels = [32,1] , inputs = [batch = 32, channel = 3, 32, 32]\n",
        "\n",
        "    inputs = inputs.view(-1, 32*32*3) # = (32, 3072) (batch_zie = 32)\n",
        "\n",
        "    outputs = net(inputs) # (32, 10)   \n",
        "    _, predicted = torch.max(outputs.data, dim = 1) # (32, 1) -> For each vector of outputs (1,10), it takes their max! -> output two items: The first returns real values, and secnod is the indexes -> (32, 1) each of them\n",
        "    predictions.append(outputs)\n",
        "    \n",
        "    total += labels.size(0) # generally returns a tensor -> .size(0) returns numeric value\n",
        "    \n",
        "    correct += (predicted == labels).sum().item()  # .sum() returns a tensor, .items() returns numeric value\n",
        "\n",
        "print(\"The test accuracy: \" + str(100*(correct/total)))"
      ],
      "metadata": {
        "id": "yeeeD7tHyJ_x"
      },
      "execution_count": null,
      "outputs": []
    },
    {
      "cell_type": "markdown",
      "source": [
        "# CNN\n",
        "\n",
        "- Convolving: Doing dot product between the image and the filter!\n",
        "\n",
        "- 2 ways of CNN in `pytorch`: Functional (`torch.nn.functional`) vs OOP (`torch.nn`)\n",
        "\n",
        "```python\n",
        "nn.Conv2d(in_channels, out_channels, kernel_size, stride, padding)\n",
        "nn.MaxPool2d(2) or nn.AvgPool2d(2)\n",
        "```"
      ],
      "metadata": {
        "id": "4_Jp3kWNXKei"
      }
    },
    {
      "cell_type": "markdown",
      "source": [
        "### CNN on CIFAR10 using Pytorch"
      ],
      "metadata": {
        "id": "qwiVaMDSevvF"
      }
    },
    {
      "cell_type": "code",
      "source": [
        "# Prepare Data\n",
        "\n",
        "import torch\n",
        "import torch.nn as nn\n",
        "\n",
        "import torchvision\n",
        "import torchvision.transforms as transforms\n",
        "\n",
        "transform = transforms.Compose([transforms.ToTensor(),\n",
        "                                transforms.Normalize((0.5, 0.5, 0.5), (0.5, 0.5, 0.5))])"
      ],
      "metadata": {
        "id": "NMhadQErezNZ"
      },
      "execution_count": 27,
      "outputs": []
    },
    {
      "cell_type": "code",
      "source": [
        "train_data = torchvision.datasets.CIFAR10(root = \"./\", train = True, download = True, transform = transform)\n",
        "test_data = torchvision.datasets.CIFAR10(root = \"./\", train = False, download = True, transform = transform)"
      ],
      "metadata": {
        "id": "imVd3p1NfLf8"
      },
      "execution_count": null,
      "outputs": []
    },
    {
      "cell_type": "code",
      "source": [
        "trainloader = torch.utils.data.DataLoader(train_data, shuffle=True ,batch_size = 128, num_workers=4)\n",
        "testloader = torch.utils.data.DataLoader(test_data, shuffle = True, batch_size = 128, num_workers = 4)"
      ],
      "metadata": {
        "colab": {
          "base_uri": "https://localhost:8080/"
        },
        "id": "r6TdXGDhg9cO",
        "outputId": "bdd6ef1e-3148-4520-b237-45faaa260322"
      },
      "execution_count": 30,
      "outputs": [
        {
          "output_type": "stream",
          "name": "stderr",
          "text": [
            "/usr/local/lib/python3.7/dist-packages/torch/utils/data/dataloader.py:481: UserWarning: This DataLoader will create 4 worker processes in total. Our suggested max number of worker in current system is 2, which is smaller than what this DataLoader is going to create. Please be aware that excessive worker creation might get DataLoader running slow or even freeze, lower the worker number to avoid potential slowness/freeze if necessary.\n",
            "  cpuset_checked))\n"
          ]
        }
      ]
    },
    {
      "cell_type": "code",
      "source": [
        "# Building a CNN\n",
        "\n",
        "class Net(nn.Module):\n",
        "\n",
        "    def __init__(self, num_class = 1000):\n",
        "        super(Net, self).__init__()\n",
        "        self.conv1 = nn.Conv2d(in_channels = 3, out_channels = 32, kernel_size = 3, padding = 1)\n",
        "        self.conv2 = nn.Conv2d(in_channels = 32, out_channels = 64, kernel_size = 3, padding = 1)\n",
        "        self.conv3 = nn.Conv2d(in_channels = 64, out_channels = 128, kernel_size = 3 , padding = 1)\n",
        "        self.pool = nn.MaxPool2d(2, 2)\n",
        "        self.fc = nn.Linear(128*4*4, num_class)\n",
        "\n",
        "    def forward(self, x):\n",
        "        x = self.pool(F.relu(self.conv1(x)))\n",
        "        x = self.pool(F.relu(self.conv2(x)))\n",
        "        x = self.pool(F.relu(self.conv3(x)))\n",
        "        x = x.view(-1, 128*4*4)\n",
        "        return self.fc(x)\n"
      ],
      "metadata": {
        "id": "a-fVdt1OhePA"
      },
      "execution_count": 37,
      "outputs": []
    },
    {
      "cell_type": "code",
      "source": [
        "net = Net()\n",
        "criterion = nn.CrossEntropyLoss()\n",
        "optimizer = optim.Adam(params = net.parameters(), lr = 0.001)\n"
      ],
      "metadata": {
        "id": "cFYZ2PHIjX7Z"
      },
      "execution_count": 38,
      "outputs": []
    },
    {
      "cell_type": "code",
      "source": [
        "for epoch in range(1):\n",
        "    for i, data in enumerate(train_loader):   # train_loader = (50K, 32, 32, 3)& create 4 worker process; data[0] = X = (32, 3, 32, 32) ; data[1] = Y = [32] = one label for each observation\n",
        "        inputs, labels = data\n",
        "        \n",
        "        optimizer.zero_grad() # set all the gradients to zero -> not added from the previous iteration!\n",
        "        \n",
        "        \n",
        "        # run the network: Forward + Backward + Optimize\n",
        "        outputs = net(inputs)\n",
        "        loss = criterion(outputs, labels)\n",
        "        \n",
        "        loss.backward()   \n",
        "        \n",
        "        optimizer.step()  # update weights: performs a single optimization step\n",
        "\n",
        "\n"
      ],
      "metadata": {
        "colab": {
          "base_uri": "https://localhost:8080/"
        },
        "id": "cDcfIzWhjcdR",
        "outputId": "c1769221-d2df-4ab5-8964-530dd22fb59b"
      },
      "execution_count": 39,
      "outputs": [
        {
          "output_type": "stream",
          "name": "stderr",
          "text": [
            "/usr/local/lib/python3.7/dist-packages/torch/utils/data/dataloader.py:481: UserWarning: This DataLoader will create 4 worker processes in total. Our suggested max number of worker in current system is 2, which is smaller than what this DataLoader is going to create. Please be aware that excessive worker creation might get DataLoader running slow or even freeze, lower the worker number to avoid potential slowness/freeze if necessary.\n",
            "  cpuset_checked))\n"
          ]
        }
      ]
    },
    {
      "cell_type": "code",
      "source": [
        "correct, total = 0, 0\n",
        "predictions = []\n",
        "net.eval() # go in the test/evaluation mode\n",
        "\n",
        "for i, data in enumerate(test_loader, 0):\n",
        "    inputs, labels = data  # labels = [32,1] , inputs = [batch = 32, channel = 3, 32, 32]\n",
        "\n",
        "    outputs = net(inputs) # (32, 10)   \n",
        "    _, predicted = torch.max(outputs.data, dim = 1) # (32, 1) -> For each vector of outputs (1,10), it takes their max! -> output two items: The first returns real values, and secnod is the indexes -> (32, 1) each of them\n",
        "    predictions.append(outputs)\n",
        "    \n",
        "    total += labels.size(0) # generally returns a tensor -> .size(0) returns numeric value\n",
        "    \n",
        "    correct += (predicted == labels).sum().item()  # .sum() returns a tensor, .items() returns numeric value\n",
        "\n",
        "print(\"The test accuracy: \" + str(100*(correct/total)))"
      ],
      "metadata": {
        "colab": {
          "base_uri": "https://localhost:8080/"
        },
        "id": "rWFhEOzFjn2m",
        "outputId": "977c1b2b-3805-410b-cee9-4e49aaa4f3c7"
      },
      "execution_count": 40,
      "outputs": [
        {
          "output_type": "stream",
          "name": "stderr",
          "text": [
            "/usr/local/lib/python3.7/dist-packages/torch/utils/data/dataloader.py:481: UserWarning: This DataLoader will create 4 worker processes in total. Our suggested max number of worker in current system is 2, which is smaller than what this DataLoader is going to create. Please be aware that excessive worker creation might get DataLoader running slow or even freeze, lower the worker number to avoid potential slowness/freeze if necessary.\n",
            "  cpuset_checked))\n"
          ]
        },
        {
          "output_type": "stream",
          "name": "stdout",
          "text": [
            "The test accuracy: 57.11000000000001\n"
          ]
        }
      ]
    }
  ]
}