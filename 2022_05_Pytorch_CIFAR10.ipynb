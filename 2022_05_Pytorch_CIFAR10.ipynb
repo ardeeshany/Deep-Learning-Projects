{
  "nbformat": 4,
  "nbformat_minor": 0,
  "metadata": {
    "colab": {
      "name": "2022-05-Pytorch-CIFAR10.ipynb",
      "provenance": [],
      "collapsed_sections": [],
      "authorship_tag": "ABX9TyOy9C7F9Oqp086tFMejZvPE",
      "include_colab_link": true
    },
    "kernelspec": {
      "name": "python3",
      "display_name": "Python 3"
    },
    "language_info": {
      "name": "python"
    }
  },
  "cells": [
    {
      "cell_type": "markdown",
      "metadata": {
        "id": "view-in-github",
        "colab_type": "text"
      },
      "source": [
        "<a href=\"https://colab.research.google.com/github/ardeeshany/Deep-Learning-Projects/blob/main/2022_05_Pytorch_CIFAR10.ipynb\" target=\"_parent\"><img src=\"https://colab.research.google.com/assets/colab-badge.svg\" alt=\"Open In Colab\"/></a>"
      ]
    },
    {
      "cell_type": "code",
      "execution_count": null,
      "metadata": {
        "id": "uM5S2dRXlCUb"
      },
      "outputs": [],
      "source": [
        "# Load required packages\n",
        "import torch\n",
        "import torch.nn as nn\n",
        "import torch.nn.functional as F\n",
        "import torch.optim as optim\n",
        "\n",
        "import torchvision\n",
        "import torchvision.transforms as transforms\n"
      ]
    },
    {
      "cell_type": "code",
      "source": [
        "# Load and PreProcess Data\n",
        "transform = transforms.Compose([transforms.ToTensor()])\n",
        "trainset = torchvision.datasets.CIFAR10(root = \"./\", train = True, download = True, transform = transform) # 50K obs\n",
        "testset = torchvision.datasets.CIFAR10(root = \"./\", train = False, download = True, transform = transform) # 10K obs\n",
        "\n",
        "train_loader = torch.utils.data.DataLoader(trainset, batch_size = 128, shuffle = True, num_workers = 2) # 32x32 images\n",
        "test_loader = torch.utils.data.DataLoader(testset, batch_size = 128, shuffle = True, num_workers = 2)"
      ],
      "metadata": {
        "id": "P8QRZQ-ClyFC"
      },
      "execution_count": null,
      "outputs": []
    },
    {
      "cell_type": "code",
      "source": [
        "from torch.nn.modules.batchnorm import BatchNorm2d\n",
        "# Building block of Network\n",
        "def conv_block(in_channels, out_channels, activation = 'relu', *args, **kwargs):\n",
        "    activations = nn.ModuleDict([\n",
        "                ['relu', nn.ReLU()],\n",
        "                ['lkrelu', nn.LeakyReLU()],\n",
        "    ])\n",
        "\n",
        "    return nn.Sequential(\n",
        "        nn.Conv2d(in_channels=in_channels, out_channels=out_channels, *args, **kwargs),\n",
        "        nn.BatchNorm2d(out_channels),\n",
        "        activations[activation]\n",
        "    )\n",
        "\n",
        "\n",
        "# Building the Network\n",
        "class MyClassifier(nn.Module):\n",
        "\n",
        "    def __init__(self, num_channels, out_classes):\n",
        "        super().__init__()\n",
        "        self.encoder = nn.Sequential(\n",
        "            conv_block(in_channels = num_channels, out_channels = 32, activation = 'relu', kernel_size = 3, padding = 1, stride = 1),\n",
        "            conv_block(in_channels = 32, out_channels = 64, activation = 'relu', kernel_size = 3, padding = 1, stride = 1),\n",
        "        )\n",
        "\n",
        "        self.decoder = nn.Sequential(\n",
        "            nn.Linear(64*32*32, 128),\n",
        "            nn.Sigmoid(),\n",
        "            nn.Linear(128, out_classes)\n",
        "        )\n",
        "\n",
        "    def forward(self, x):\n",
        "        x = self.encoder(x)\n",
        "\n",
        "        x = x.view(-1, 64*32*32)\n",
        "\n",
        "        x = self.decoder(x)\n",
        "       \n",
        "        return x\n",
        "\n",
        "\n"
      ],
      "metadata": {
        "id": "8t-lMXaTn5qm"
      },
      "execution_count": 8,
      "outputs": []
    },
    {
      "cell_type": "code",
      "source": [
        "# Compile the model\n",
        "net = MyClassifier(num_channels=3, out_classes=10)\n",
        "criteria = nn.CrossEntropyLoss()\n",
        "optimizer = optim.Adam(params = net.parameters(), lr = 0.01)"
      ],
      "metadata": {
        "id": "_AOG7oXhqtoP"
      },
      "execution_count": 9,
      "outputs": []
    },
    {
      "cell_type": "code",
      "source": [
        "# Train the model\n",
        "for epoch in range(1):\n",
        "    for i, data in enumerate(train_loader):\n",
        "        inputs, labels = data\n",
        "\n",
        "        optimizer.zero_grad()\n",
        "\n",
        "        outputs = net(inputs)\n",
        "\n",
        "        loss = criteria(outputs, labels)\n",
        "\n",
        "        loss.backward()\n",
        "\n",
        "        optimizer.step()\n",
        "        print(\"Step \" + str(i) + \" is completed!\")\n"
      ],
      "metadata": {
        "id": "DTf9dryyrVfH"
      },
      "execution_count": null,
      "outputs": []
    },
    {
      "cell_type": "code",
      "source": [
        "# Validate\n",
        "total , correct = 0, 0\n",
        "\n",
        "net.eval()\n",
        "\n",
        "for i, data in enumerate(test_loader):\n",
        "    inputs, labels = data\n",
        "\n",
        "    outputs = net(inputs)\n",
        "    _, predicted = torch.max(outputs.data, dim = 1)\n",
        "\n",
        "    total += labels.size(0)\n",
        "    correct += (predicted == labels).sum().item()\n",
        "\n",
        "print(\"The accuracy is: \" + str(correct/total*100)+\"%\")    \n",
        "\n"
      ],
      "metadata": {
        "colab": {
          "base_uri": "https://localhost:8080/"
        },
        "id": "FTOgnbeptWL2",
        "outputId": "a8986218-8cfd-486f-8281-dd6b0a5dadbe"
      },
      "execution_count": 15,
      "outputs": [
        {
          "output_type": "stream",
          "name": "stdout",
          "text": [
            "The accuracy is: 13.68%\n"
          ]
        }
      ]
    }
  ]
}